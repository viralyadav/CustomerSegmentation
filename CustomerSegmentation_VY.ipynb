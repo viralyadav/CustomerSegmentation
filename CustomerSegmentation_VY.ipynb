{
 "cells": [
  {
   "cell_type": "code",
   "execution_count": null,
   "id": "6d73d1a1-d114-4f60-862a-2a5b206d50c7",
   "metadata": {},
   "outputs": [],
   "source": [
    "import pandas as pd\n",
    "import warnings\n",
    "warnings.filterwarnings(\"ignore\")\n",
    "pd.set_option('display.max_columns', None)\n",
    "import matplotlib.pyplot as plt\n",
    "import seaborn as sns\n",
    "from datetime import date, datetime"
   ]
  },
  {
   "cell_type": "code",
   "execution_count": null,
   "id": "f797fb1a-3f22-469d-9875-55f02d855f93",
   "metadata": {
    "scrolled": true
   },
   "outputs": [],
   "source": [
    "df = pd.read_excel(\"C:/Users/viral/Desktop/CSFILESProject/marketing_campaign1.xlsx\")\n",
    "df"
   ]
  },
  {
   "cell_type": "code",
   "execution_count": null,
   "id": "5189b403-f032-41a6-acbb-3fddb6fd69af",
   "metadata": {
    "scrolled": true
   },
   "outputs": [],
   "source": [
    "df.head(10)"
   ]
  },
  {
   "cell_type": "code",
   "execution_count": null,
   "id": "77f3c5f7-f15a-4c1a-8209-12a22271f2c5",
   "metadata": {},
   "outputs": [],
   "source": [
    "df.shape"
   ]
  },
  {
   "cell_type": "code",
   "execution_count": null,
   "id": "7f561bb7-9e0d-48ef-8dbe-9b4d87c6aeba",
   "metadata": {},
   "outputs": [],
   "source": [
    "df.columns"
   ]
  },
  {
   "cell_type": "code",
   "execution_count": null,
   "id": "628e3516-06a9-43aa-a4ef-3ae6296cbab5",
   "metadata": {},
   "outputs": [],
   "source": [
    "df.info()"
   ]
  },
  {
   "cell_type": "code",
   "execution_count": null,
   "id": "0bab469a-d0cb-43da-9874-6496775b07fa",
   "metadata": {},
   "outputs": [],
   "source": [
    "df.describe()"
   ]
  },
  {
   "cell_type": "code",
   "execution_count": null,
   "id": "5ce526d5-af9f-40a6-bfea-4f51fe18cf83",
   "metadata": {},
   "outputs": [],
   "source": [
    "df.isnull().sum()"
   ]
  },
  {
   "cell_type": "code",
   "execution_count": null,
   "id": "ecd831d2-8510-4d3c-8c53-4fbdd308b189",
   "metadata": {},
   "outputs": [],
   "source": [
    "print(df.columns)"
   ]
  },
  {
   "cell_type": "code",
   "execution_count": null,
   "id": "80d6779e-1376-46bd-a4c8-b7915173046a",
   "metadata": {},
   "outputs": [],
   "source": [
    "df['Income'].fillna(df['Income'].mean(), inplace = True)\n",
    "\n",
    "# .fillna(..., inplace=True) replaces NaN(not a number) values directly in the DataFrame\n",
    "# without creating a new copy."
   ]
  },
  {
   "cell_type": "code",
   "execution_count": null,
   "id": "9a85a754-6ea6-4230-8735-171b6ec9a723",
   "metadata": {},
   "outputs": [],
   "source": [
    "df.isnull().sum()"
   ]
  },
  {
   "cell_type": "code",
   "execution_count": null,
   "id": "e1f5d227-f7e7-4693-8d4a-03061f25cce6",
   "metadata": {},
   "outputs": [],
   "source": [
    "# df['Days_Customer'] = df['Days_Customer'].dt.days.astype('int16')"
   ]
  },
  {
   "cell_type": "code",
   "execution_count": null,
   "id": "064d1f4b-2f41-47fc-8d00-87408cdbe652",
   "metadata": {},
   "outputs": [],
   "source": [
    "df.dropna(inplace=True)"
   ]
  },
  {
   "cell_type": "code",
   "execution_count": null,
   "id": "6cf0d667-f2f4-4d9e-8e88-5c0c1f6080bc",
   "metadata": {},
   "outputs": [],
   "source": [
    "df.duplicated().sum()"
   ]
  },
  {
   "cell_type": "code",
   "execution_count": null,
   "id": "5d1eae79-54d9-4325-971c-ccd94b191d64",
   "metadata": {},
   "outputs": [],
   "source": [
    "# Dropping useless columns\n",
    "df.drop(['ID','Z_CostContact','Z_Revenue','Year_Birth','Dt_Customer'], axis=1, inplace=True)"
   ]
  },
  {
   "cell_type": "code",
   "execution_count": null,
   "id": "47a5bf7b-8de0-446c-8d1d-821125203cee",
   "metadata": {},
   "outputs": [],
   "source": [
    "# import seaborn as sns\n",
    "# import matplotlib.pyplot as plt\n",
    "\n",
    "# # List of numerical columns\n",
    "# cols = ['NumWebPurchases', 'NumCatalogPurchases', 'NumStorePurchases']\n",
    "\n",
    "# # Boxplot\n",
    "# plt.figure(figsize=(8, 6))\n",
    "# sns.boxplot(data=df[cols])\n",
    "# plt.title('Boxplot of Purchases')\n",
    "# plt.ylabel('Number of Purchases')\n",
    "# plt.show()"
   ]
  },
  {
   "cell_type": "code",
   "execution_count": null,
   "id": "ee2cb92f-f236-42dc-adbe-e9cafbd4ac9a",
   "metadata": {},
   "outputs": [],
   "source": [
    "num_cols = df.select_dtypes(include=['number']).columns\n",
    "print(num_cols)"
   ]
  },
  {
   "cell_type": "code",
   "execution_count": null,
   "id": "d5c17567-f519-4299-8294-9b5d21360081",
   "metadata": {},
   "outputs": [],
   "source": [
    "cat_cols = df.select_dtypes(include=['object', 'category']).columns\n",
    "print(cat_cols)"
   ]
  },
  {
   "cell_type": "code",
   "execution_count": null,
   "id": "a7b0f99b-de1d-4a84-bfa6-3236f72643f5",
   "metadata": {},
   "outputs": [],
   "source": [
    "cat_cols = [col for col in df.columns if df[col].nunique() < 10]  # Adjust threshold as needed"
   ]
  },
  {
   "cell_type": "code",
   "execution_count": null,
   "id": "c4bed8a1-2390-45c6-9b23-930c3c830da0",
   "metadata": {},
   "outputs": [],
   "source": [
    "df.dtypes           #FIND EVERY COLUMNS DATATYPE"
   ]
  },
  {
   "cell_type": "code",
   "execution_count": null,
   "id": "8bf7e72f-67de-4365-83da-23686a0d1bad",
   "metadata": {},
   "outputs": [],
   "source": [
    "import seaborn as sns\n",
    "import matplotlib.pyplot as plt\n",
    "\n",
    "# List of numerical columns\n",
    "cols = ['NumWebPurchases', 'NumCatalogPurchases', 'NumStorePurchases']\n",
    "\n",
    "# Boxplot\n",
    "plt.figure(figsize=(8, 6))\n",
    "sns.boxplot(data=df[cols])\n",
    "plt.title('Boxplot of Purchases')\n",
    "plt.ylabel('Number of Purchases')\n",
    "plt.show()"
   ]
  },
  {
   "cell_type": "code",
   "execution_count": null,
   "id": "86bf4d03-3e69-44bc-aae7-3c0d8a1471ba",
   "metadata": {},
   "outputs": [],
   "source": [
    "import pandas as pd\n",
    "\n",
    "def remove_outliers_iqr(df, cols):\n",
    "    \"\"\"Removes outliers from specified columns using the IQR method.\"\"\"\n",
    "    df_clean = df.copy()\n",
    "    for col in cols:\n",
    "        Q1 = df_clean[col].quantile(0.25)\n",
    "        Q3 = df_clean[col].quantile(0.75)\n",
    "        IQR = Q3 - Q1\n",
    "        lower_bound = Q1 - 1.5 * IQR\n",
    "        upper_bound = Q3 + 1.5 * IQR\n",
    "        df_clean = df_clean[(df_clean[col] >= lower_bound) & (df_clean[col] <= upper_bound)]\n",
    "    return df_clean"
   ]
  },
  {
   "cell_type": "code",
   "execution_count": null,
   "id": "727897ef-f73b-4c32-8fe2-f311fd2ade94",
   "metadata": {},
   "outputs": [],
   "source": [
    "cols = ['NumWebPurchases', 'NumCatalogPurchases', 'NumStorePurchases']\n",
    "\n",
    "# Remove outliers\n",
    "df_no_outliers = remove_outliers_iqr(df, cols)\n",
    "\n",
    "\n",
    "plt.figure(figsize=(8, 6), dpi=80)\n",
    "df_no_outliers[cols].plot(kind='box', patch_artist=True,\n",
    "                          boxprops=dict(facecolor='skyblue', color='black'),\n",
    "                          medianprops=dict(color='red'),\n",
    "                          whiskerprops=dict(color='black'),\n",
    "                          capprops=dict(color='black'),\n",
    "                          flierprops=dict(marker='o', markerfacecolor='gray', markeredgecolor='gray'))\n",
    "\n",
    "plt.title('Distribution of Purchases by Channel (Outliers Removed)', fontsize=14)\n",
    "plt.ylabel('Number of Purchases')\n",
    "plt.grid(axis='y', linestyle='--', alpha=0.7)\n",
    "plt.tight_layout()\n",
    "plt.show()"
   ]
  },
  {
   "cell_type": "code",
   "execution_count": null,
   "id": "c8615735-392c-472b-97fa-98044e79f189",
   "metadata": {},
   "outputs": [],
   "source": [
    "column=['Education', 'Marital_Status', 'Income', 'Kidhome',\n",
    "       'Teenhome']\n",
    "\n",
    "plt.figure(figsize=(8,6))\n",
    "df[column].boxplot(patch_artist=True)\n",
    "plt.title('CUSTOMER Boxplot')\n",
    "plt.ylabel('CUSTOMER')\n",
    "plt.show()\n"
   ]
  },
  {
   "cell_type": "code",
   "execution_count": null,
   "id": "b8e85206-811c-42e1-8cfc-40de1f91dafb",
   "metadata": {},
   "outputs": [],
   "source": [
    "col2=['MntWines', 'MntFruits',\n",
    "       'MntMeatProducts', 'MntFishProducts', 'MntSweetProducts',\n",
    "       'MntGoldProds']\n",
    "\n",
    "plt.figure(figsize=(8,6))\n",
    "df[col2].boxplot(patch_artist=True)\n",
    "plt.title('PRODUCTS Boxplot')\n",
    "plt.ylabel('Number of PRODUCTS')\n",
    "plt.show()"
   ]
  },
  {
   "cell_type": "code",
   "execution_count": null,
   "id": "e22b5a41-aeb6-4104-98c5-74bd7bee1f47",
   "metadata": {},
   "outputs": [],
   "source": [
    "col3=[ 'NumDealsPurchases', 'NumWebPurchases',\n",
    "       'NumCatalogPurchases', 'NumStorePurchases', 'NumWebVisitsMonth',\n",
    "       ]\n",
    "\n",
    "plt.figure(figsize=(8,6))\n",
    "df[col3].boxplot(patch_artist=True)\n",
    "plt.title('PLACES Boxplot')\n",
    "plt.ylabel('PLACES VISITS')\n",
    "plt.show()"
   ]
  },
  {
   "cell_type": "code",
   "execution_count": null,
   "id": "ca124e6b-94be-4043-9bbc-8e767ad42b7c",
   "metadata": {},
   "outputs": [],
   "source": [
    "col4=['AcceptedCmp3', 'AcceptedCmp4', 'AcceptedCmp5', 'AcceptedCmp1',\n",
    "       'AcceptedCmp2']\n",
    "\n",
    "plt.figure(figsize=(8,6))\n",
    "df[col4].boxplot(patch_artist=True)\n",
    "plt.title('PROMOTIONS Boxplot')\n",
    "plt.ylabel('Number of PROMOTIONS')          #FOR X LABEL COLUMNS\n",
    "plt.show()\n"
   ]
  },
  {
   "cell_type": "code",
   "execution_count": null,
   "id": "1aa5f9ee-1aae-45e1-94f1-4d92a697a5cc",
   "metadata": {},
   "outputs": [],
   "source": [
    "col5=['Complain','Response']\n",
    "\n",
    "plt.figure(figsize=(8,6))\n",
    "df[col5].boxplot(patch_artist=True)\n",
    "plt.title('RESPONSE AND COMPLAIN Boxplot')\n",
    "plt.ylabel('Number of RESPONSE AND COMPLAIN')          #FOR X LABEL COLUMNS\n",
    "plt.show()\n"
   ]
  },
  {
   "cell_type": "code",
   "execution_count": null,
   "id": "384d5be1-93b9-46cd-adf2-e8427143f0e2",
   "metadata": {},
   "outputs": [],
   "source": [
    "import numpy as np"
   ]
  },
  {
   "cell_type": "code",
   "execution_count": null,
   "id": "33d578c0-72af-4fce-aa46-416868128213",
   "metadata": {},
   "outputs": [],
   "source": [
    "df['Education'].value_counts()"
   ]
  },
  {
   "cell_type": "code",
   "execution_count": null,
   "id": "482bc21d-6345-4a07-8d25-4ef1d15c5f62",
   "metadata": {},
   "outputs": [],
   "source": [
    "df['Marital_Status'].value_counts()"
   ]
  },
  {
   "cell_type": "code",
   "execution_count": null,
   "id": "eb5e8fd7-5081-4736-b41f-254c109cf523",
   "metadata": {},
   "outputs": [],
   "source": [
    "unique_number = []\n",
    "for i in df.columns:\n",
    "    x = df[i].value_counts().count()\n",
    "    unique_number.append(x)\n",
    "\n",
    "pd.DataFrame(unique_number, index = df.columns, columns = [\"Total Unique Values\"])"
   ]
  },
  {
   "cell_type": "code",
   "execution_count": null,
   "id": "e4d5f345-5226-4fee-bf0c-42693834b679",
   "metadata": {},
   "outputs": [],
   "source": [
    "corr = df.select_dtypes(include=['number']).corr()\n",
    "\n",
    "corr = corr.corr()\n",
    "plt.figure(figsize = (15,8))\n",
    "sns.heatmap(data = corr[corr>0.5], annot = True, cmap = 'coolwarm')\n",
    "plt.show()\n",
    "\n",
    "# POSITIVE CORRELATION"
   ]
  },
  {
   "cell_type": "code",
   "execution_count": null,
   "id": "5035c972-e48b-4373-89c4-04e49a1f563a",
   "metadata": {},
   "outputs": [],
   "source": [
    "# figsize=(12,6)\n",
    "# df.hist()"
   ]
  },
  {
   "cell_type": "code",
   "execution_count": null,
   "id": "e1e681f3-18ed-4857-9ef4-7b458057170e",
   "metadata": {},
   "outputs": [],
   "source": [
    "for col in ['Kidhome','Teenhome','Education','Marital_Status']:\n",
    "    df.groupby(col)[['NumDealsPurchases','NumWebPurchases','NumCatalogPurchases','NumStorePurchases']].sum().plot(kind='bar',figsize = (12, 6))\n",
    "    plt.title('Number Of Purchases Through Diiferent Mode Vs '+col)\n",
    "    plt.xticks(rotation = 360)\n",
    "    plt.show()\n",
    "\n",
    "# plt.title('Number Of Purchases Through Diiferent Mode Vs '+col)\n",
    "# gives different plots with changing their names in the title as updating"
   ]
  },
  {
   "cell_type": "code",
   "execution_count": null,
   "id": "8aefb3ea-c667-4bd5-8578-57f6294ae425",
   "metadata": {},
   "outputs": [],
   "source": [
    "plt.figure(figsize = (8, 6), dpi = 80)\n",
    "df[['AcceptedCmp1', 'AcceptedCmp2', 'AcceptedCmp3', 'AcceptedCmp4','AcceptedCmp5', 'Response']].sum().sort_values(ascending=True).plot(kind='barh')\n",
    "plt.title('Accepted Campaigns')\n",
    "plt.show()"
   ]
  },
  {
   "cell_type": "code",
   "execution_count": null,
   "id": "f1e50df9-7f60-43b1-8e1d-3454a749d280",
   "metadata": {},
   "outputs": [],
   "source": [
    "PEOPLE BOUGHT MOSTLY FROM LAST CAMPAIGNS RATHER THAN FIRST"
   ]
  },
  {
   "cell_type": "code",
   "execution_count": null,
   "id": "407deb80-b182-4530-b17b-50399f753c9c",
   "metadata": {},
   "outputs": [],
   "source": [
    "DENSITY PLOT"
   ]
  },
  {
   "cell_type": "code",
   "execution_count": null,
   "id": "d4998f69-4be0-4550-8dca-9048b5f28ec1",
   "metadata": {},
   "outputs": [],
   "source": [
    "for col in num_cols :\n",
    "    plt.figure(figsize = (8, 6), dpi = 80)\n",
    "    sns.distplot(df[col], hist_kws = dict(linewidth = 1, edgecolor = \"k\"), bins = 20)\n",
    "\n",
    "    plt.title(col + ' Distribution')\n",
    "    plt.ylabel(\"density\")\n",
    "\n",
    "    plt.tight_layout()\n",
    "    plt.show()"
   ]
  },
  {
   "cell_type": "code",
   "execution_count": null,
   "id": "05b1d1fd-6182-47d5-a357-f303a01f4886",
   "metadata": {},
   "outputs": [],
   "source": [
    "INCOME IS MOSTLY FROM 0 TO 1,00000\n",
    "KIDHOME IS MOSTLY 1 TO 2\n",
    "TEEN HOME IS ALSO MOSLTY 1 TO 2\n",
    "RECENCY DIFFERS BETWEEN -20 TO 100\n",
    "WINES AND MEAT ARE BOUGHT MORE COMPARED TO OTHERS\n",
    "WEB AND STORE PURCHASES ARE MORE\n",
    "ACCEPTED CAMPAIGNS ARE HIGH IN 2\n",
    "AND COMPLAINS ARE ALSO MORE"
   ]
  },
  {
   "cell_type": "code",
   "execution_count": null,
   "id": "ded3c376-a853-49fd-8357-420993658b4d",
   "metadata": {},
   "outputs": [],
   "source": [
    "PIE PLOT"
   ]
  },
  {
   "cell_type": "code",
   "execution_count": null,
   "id": "571f106a-be5b-4b47-b7c9-d34e8d34ee73",
   "metadata": {},
   "outputs": [],
   "source": [
    "import matplotlib.pyplot as plt\n",
    "\n",
    "# Count occurrences of each category\n",
    "customer_counts = df['Education'].value_counts()\n",
    "\n",
    "# Plot pie chart\n",
    "plt.figure(figsize=(8, 6))\n",
    "plt.pie(customer_counts, labels=customer_counts.index, autopct='%1.1f%%', colors=['skyblue', 'lightcoral', 'gold', 'lightgreen'])\n",
    "plt.title('Education Distribution')\n",
    "plt.show()\n",
    "\n",
    "\n",
    "# df['Education'].value_counts()  : THIS WILL HELP CONVERT CATEGORICAL TO NULMERICAL"
   ]
  },
  {
   "cell_type": "code",
   "execution_count": null,
   "id": "83009ef3-1550-41b5-aa57-3ca1c0401f36",
   "metadata": {},
   "outputs": [],
   "source": [
    "GRADUATED PEOPLE ARE MORE"
   ]
  },
  {
   "cell_type": "code",
   "execution_count": null,
   "id": "3304598b-ae50-4a64-bb9d-5859ccec2112",
   "metadata": {},
   "outputs": [],
   "source": [
    "customer_counts = df['Marital_Status'].value_counts()\n",
    "\n",
    "# Plot pie chart\n",
    "plt.figure(figsize=(8, 6))\n",
    "plt.pie(customer_counts, labels=customer_counts.index, autopct='%1.1f%%', colors=['skyblue', 'lightcoral', 'gold', 'lightgreen'])\n",
    "plt.title('MARITAL Distribution')\n",
    "plt.show()"
   ]
  },
  {
   "cell_type": "code",
   "execution_count": null,
   "id": "c7b9204e-bbea-4ab8-a88d-949b36aff8f4",
   "metadata": {},
   "outputs": [],
   "source": [
    "MARRIED PEOPLE ARE MORE FOLLOWED BY TOGETHER AND SINGLE"
   ]
  },
  {
   "cell_type": "code",
   "execution_count": null,
   "id": "5f993e7c-2bf7-4898-bde0-e1ec9d9e28a1",
   "metadata": {},
   "outputs": [],
   "source": [
    "# for col in cols :\n",
    "#     plt.figure(figsize = (8, 6))\n",
    "#     category_counts = df[cols].value_counts()\n",
    "#     plt.pie( category_counts, labels= category_counts.index , autopct='%1.1f%%',colors=['skyblue', 'lightcoral', 'gold', 'lightgreen'])\n",
    "\n",
    "#     plt.title(col + ' Distribution')\n",
    "#     plt.ylabel(\"density\")\n",
    "\n",
    "#     plt.tight_layout()\n",
    "#     plt.show()\n"
   ]
  },
  {
   "cell_type": "code",
   "execution_count": null,
   "id": "2ba6c15f-2e3b-4491-98c4-8ff52e9cf059",
   "metadata": {},
   "outputs": [],
   "source": [
    "cat_axis_names = ['Age Group','Education Level','Education Level','Number Of Kids At Houseold','Number Of Teens At Houseold','Total Number of Kids & Children At Household','Response To Campaign1','Response To Campaign2','Response To Campaign3','Response To Campaign4','Response To Campaign5','Response To Last Campaign','Total Responce To Campaigns','Complaints In Last 2 Years','Has Partner Or Not','Maritial Status','Number Of Years Since Enrollment','Year joined','Month Joined','Day Joined']\n",
    "\n",
    "for col, name in list(zip(cat_cols, cat_axis_names)):\n",
    "    fig, ax = plt.subplots(figsize = (8, 6))\n",
    "\n",
    "    observation_values = list(df[col].value_counts().index)         #UNIQUE CATEGORICAL VALUES AND THEIR COUNT\n",
    "    total_observation_values = list(df[col].value_counts())\n",
    "\n",
    "    ax.pie(total_observation_values, labels= observation_values, autopct = '%1.1f%%', startangle = 110, labeldistance = 1.1)\n",
    "    ax.axis(\"equal\") # Equal aspect ratio ensures that pie is drawn as a circle.\n",
    "\n",
    "    plt.title((col + \"(\" + name + \")\")) # Naming Pie Chart Titles\n",
    "    plt.legend()\n",
    "    plt.show()"
   ]
  },
  {
   "cell_type": "code",
   "execution_count": null,
   "id": "21ed2437-b4fc-415b-9a50-9cec1230f81c",
   "metadata": {},
   "outputs": [],
   "source": [
    "print(df['Education'].apply(type).unique())"
   ]
  },
  {
   "cell_type": "code",
   "execution_count": null,
   "id": "3420f00c-a689-465c-91d2-221b68f30d54",
   "metadata": {},
   "outputs": [],
   "source": [
    "import pandas as pd\n",
    "\n",
    "# Check the inferred data type of a column\n",
    "dtype_info = pd.api.types.infer_dtype(df['Education'])\n",
    "print(dtype_info)\n"
   ]
  },
  {
   "cell_type": "code",
   "execution_count": null,
   "id": "73207e0f-deca-439b-b8d5-e26946e5045f",
   "metadata": {},
   "outputs": [],
   "source": [
    "df_counts = df[\"AcceptedCmp3\"].value_counts()\n",
    "\n",
    "plt.figure(figsize=(6, 6))\n",
    "plt.pie(df_counts, labels=df_counts.index, autopct='%1.1f%%', startangle=90)\n",
    "plt.title(\"Pie Chart for AcceptedCmp3\")\n",
    "plt.show()\n"
   ]
  },
  {
   "cell_type": "code",
   "execution_count": null,
   "id": "d8ec27fa-08ad-4c33-9033-b244705980a5",
   "metadata": {},
   "outputs": [],
   "source": [
    "PIE PLOT FOR NUMERICAL COLUMNS"
   ]
  },
  {
   "cell_type": "code",
   "execution_count": null,
   "id": "9efe2f13-42dd-482f-b0e0-1dd8e84d9181",
   "metadata": {},
   "outputs": [],
   "source": [
    "# numeric_columns = df.select_dtypes(include=['number']).columns\n",
    "\n",
    "# for col in numeric_columns:\n",
    "#     plt.figure(figsize=(6, 6))\n",
    "#     plt.pie(df[col], labels=df.index, autopct='%1.1f%%')\n",
    "#     plt.title(f'Pie Chart for {col}')\n",
    "#     plt.show()"
   ]
  },
  {
   "cell_type": "code",
   "execution_count": null,
   "id": "ce57603c-4b8a-4fed-b18b-5e62fe68aea1",
   "metadata": {},
   "outputs": [],
   "source": [
    "for col in ['Kidhome','Teenhome','Education','Marital_Status']:\n",
    "    df.groupby(col)[['AcceptedCmp1','AcceptedCmp2','AcceptedCmp3','AcceptedCmp4','AcceptedCmp5','Response']].sum().sort_values(by='Response', ascending=False).plot(kind='bar',figsize = (12, 6))\n",
    "    plt.title('Different Campaigns Accepted Vs '+col)\n",
    "    plt.xticks(rotation = 360)\n",
    "\n",
    "    plt.show()"
   ]
  },
  {
   "cell_type": "code",
   "execution_count": null,
   "id": "8e4ef278-4f20-4255-9fa4-3e6ac9032a74",
   "metadata": {},
   "outputs": [],
   "source": [
    "Most amount of money is spent on wine and meat by customers and minimum on fruits and sweets\n",
    "Majority of customers like to purchase through store\n",
    "The chances of accepting an offer in campaign increases with the number of campaigns, maximum amount of customers accepted the last campaign offer"
   ]
  },
  {
   "cell_type": "code",
   "execution_count": null,
   "id": "6fc6fff2-6c9c-47d2-990a-7d441d2ef2ac",
   "metadata": {},
   "outputs": [],
   "source": [
    "MODEL : DBSCAN (Density-Based Spatial Clustering of Applications with Noise). DBSCAN is a clustering algorithm that groups together points that are closely packed together while marking outliers as noise.¶"
   ]
  },
  {
   "cell_type": "code",
   "execution_count": null,
   "id": "77906ea6-ecd0-40ba-9fc6-5742abd39be1",
   "metadata": {},
   "outputs": [],
   "source": [
    "IT IS AN Unsupervised machine Learning algorithm\n",
    "THIS MODEL REMOVES NOISE FROM CLUSTERS\n",
    "WE ONLY CLUSTER CORE, NOISE IS CONVERTED TO BORDER POINTS\n",
    "ANYTHING LESS THAN CIRCLE RADIUS FORMS THE CLUSTERS LIKE BELOW 1.9 OR ELSE IF THEY ARE ABOVE THEY WILL BE DISCARDED"
   ]
  },
  {
   "cell_type": "code",
   "execution_count": null,
   "id": "af2becb3-a045-40e9-bced-74e5aba6b611",
   "metadata": {},
   "outputs": [],
   "source": [
    "sns.pairplot(df[['Income', 'MntWines', 'MntMeatProducts','MntFruits'\n",
    "                ]])\n",
    "\n",
    "# Check whether natural clusters exist before tuning:"
   ]
  },
  {
   "cell_type": "code",
   "execution_count": null,
   "id": "b45fddd6-4eb4-44b2-a519-40414a69d3a2",
   "metadata": {},
   "outputs": [],
   "source": [
    "sns.pairplot(df[['MntFishProducts', 'MntSweetProducts','MntGoldProds'\n",
    "                ]])"
   ]
  },
  {
   "cell_type": "code",
   "execution_count": null,
   "id": "400d7004-06c5-4484-854e-ff445fd0c3ba",
   "metadata": {},
   "outputs": [],
   "source": [
    "sns.pairplot(df[['NumWebPurchases','NumCatalogPurchases', 'NumStorePurchases'\n",
    "                ]])"
   ]
  },
  {
   "cell_type": "code",
   "execution_count": null,
   "id": "061d5b7c-1399-418b-8575-17ca59c0270e",
   "metadata": {},
   "outputs": [],
   "source": [
    "sns.pairplot(df[['AcceptedCmp3', 'AcceptedCmp4', 'AcceptedCmp5'\n",
    "                ]])"
   ]
  },
  {
   "cell_type": "code",
   "execution_count": null,
   "id": "2ad6dc3e-bd34-44f0-ac2c-66f3013c32b5",
   "metadata": {},
   "outputs": [],
   "source": [
    "MODEL BUILDING¶"
   ]
  },
  {
   "cell_type": "code",
   "execution_count": null,
   "id": "59317586-5176-494f-a09a-e9ad2275a8c5",
   "metadata": {},
   "outputs": [],
   "source": [
    "DBSCAN (Density-Based Spatial Clustering of Applications with Noise). DBSCAN is a clustering algorithm that groups together points that are closely packed together while marking outliers as noise."
   ]
  },
  {
   "cell_type": "code",
   "execution_count": null,
   "id": "20c6dc65-bd44-4447-98fa-c6db36f05f6e",
   "metadata": {},
   "outputs": [],
   "source": [
    "import pandas as pd\n",
    "import numpy as np\n",
    "from sklearn.decomposition import PCA\n",
    "from sklearn.preprocessing import LabelEncoder, StandardScaler\n",
    "from sklearn.preprocessing import StandardScaler"
   ]
  },
  {
   "cell_type": "code",
   "execution_count": null,
   "id": "bcc5c20c-8fe1-4a22-bb70-d5310b1f7a77",
   "metadata": {},
   "outputs": [],
   "source": [
    "\n",
    "le = LabelEncoder()\n",
    "for col in df.select_dtypes(include='object'):\n",
    "    df[col] = le.fit_transform(df[col])\n"
   ]
  },
  {
   "cell_type": "code",
   "execution_count": null,
   "id": "f4a396b9-0b68-404f-8d5d-0c60d0642244",
   "metadata": {},
   "outputs": [],
   "source": [
    "df_scaled = StandardScaler().fit_transform(df[['Income', 'MntWines', 'MntMeatProducts',\n",
    "                                              'MntFruits','MntFishProducts',\n",
    "    'MntSweetProducts','MntGoldProds'  ]])\n",
    "\n",
    "\n",
    "if isinstance(df_scaled, np.ndarray):     # checking if df_scaled is numpy array, if it is convert them into pandas df\n",
    "    df_scaled = pd.DataFrame(df_scaled, columns=['Income', 'MntWines', 'MntMeatProducts',\n",
    "                                              'MntFruits','MntFishProducts',\n",
    "    'MntSweetProducts','MntGoldProds'])\n",
    "\n",
    "x = df_scaled.loc[:, ['Income', 'MntWines', 'MntMeatProducts',\n",
    "                                              'MntFruits','MntFishProducts',\n",
    "    'MntSweetProducts','MntGoldProds']].values\n",
    "\n",
    "pca = PCA(n_components=2)\n",
    "reduced_data = pca.fit_transform(df_scaled)"
   ]
  },
  {
   "cell_type": "code",
   "execution_count": null,
   "id": "bd399fb3-3840-45fe-af2d-a45f894f16a7",
   "metadata": {},
   "outputs": [],
   "source": [
    "from sklearn.cluster import DBSCAN\n",
    "model=DBSCAN(eps=7,min_samples=2,metric='manhattan')\n",
    "\n",
    "# Use Manhattan if your features are independent or the space is sparse\n",
    "# (which often happens with encoded data or skewed distributions)."
   ]
  },
  {
   "cell_type": "code",
   "execution_count": null,
   "id": "402509e9-b900-407f-b3f2-727ce9da006d",
   "metadata": {},
   "outputs": [],
   "source": [
    "# eps=7: Defines the maximum distance between two points or max radius\n",
    "# min_samples=2: Determines the minimum number of points required to form a dense region (core point).\n",
    "# metric='manhattan': Specifies that the manhattan distance will be used to measure the distance between points. Other metrics like Manhattan or\n",
    "# cosine can be used depending on the data."
   ]
  },
  {
   "cell_type": "code",
   "execution_count": null,
   "id": "05d0f6b1-f758-41b5-9da1-959864afdb05",
   "metadata": {},
   "outputs": [],
   "source": [
    "model2=model.fit(x)\n",
    "model2"
   ]
  },
  {
   "cell_type": "code",
   "execution_count": null,
   "id": "36adea71-453f-415d-b21c-89ad360b8122",
   "metadata": {},
   "outputs": [],
   "source": [
    "import numpy as np\n",
    "unique_labels = np.unique(model2.labels_)\n",
    "print(unique_labels)\n",
    "\n",
    "# If all are -1, DBSCAN isn't detecting dense clusters"
   ]
  },
  {
   "cell_type": "code",
   "execution_count": null,
   "id": "3b643d8b-cf11-4357-9d3e-ffcb9b16bfea",
   "metadata": {},
   "outputs": [],
   "source": [
    "label=model2.labels_\n",
    "label\n",
    "\n",
    "# locate noise usually -1"
   ]
  },
  {
   "cell_type": "code",
   "execution_count": null,
   "id": "7feae49b-8a88-4b38-88ea-ad2bd9825995",
   "metadata": {},
   "outputs": [],
   "source": [
    "import matplotlib.pyplot as plt\n",
    "plt.scatter(df['MntWines'], df['Income'], c=model.labels_)\n",
    "plt.show()\n"
   ]
  },
  {
   "cell_type": "code",
   "execution_count": null,
   "id": "4156a803-533e-4ecc-8fa1-3e9d764ac8de",
   "metadata": {},
   "outputs": [],
   "source": [
    "import numpy as np\n",
    "from sklearn import metrics\n",
    "sample_cores=np.zeros_like(label,dtype=bool)   #np.zeros_like(label, dtype=bool):Creates a new NumPy array of the same shape as label.\n",
    "sample_cores\n",
    "\n",
    "# optimal clusters are formed by removing Outliers(False)"
   ]
  },
  {
   "cell_type": "code",
   "execution_count": null,
   "id": "0f5825fd-cda6-4a72-90c1-e22c1d1a7e95",
   "metadata": {},
   "outputs": [],
   "source": [
    "from sklearn import metrics\n",
    "sample_cores[model.core_sample_indices_]= True    #indices (positions) in dataset that DBSCAN classified as core points—those with enough neighbors (≥ min_samples) within eps distance.\n",
    "sample_cores"
   ]
  },
  {
   "cell_type": "code",
   "execution_count": null,
   "id": "28463655-02f4-47c7-8a95-414bd659d871",
   "metadata": {},
   "outputs": [],
   "source": [
    "n_clusters=len(set(label))-(1 if -1 in label else 0)     #subtracts 1 from the count only if -1(noise) is in the set of labels.\n",
    "print(\"Optimal number of clusters\",n_clusters)"
   ]
  },
  {
   "cell_type": "code",
   "execution_count": null,
   "id": "9260a54e-3d3c-4281-927f-4316fd87db27",
   "metadata": {},
   "outputs": [],
   "source": [
    "y_means = model.fit_predict(x)\n",
    "\n",
    "plt.figure(figsize=(8,6))\n",
    "plt.xlabel('Income')\n",
    "plt.ylabel('spending')\n",
    "plt.title('DBSCAN  Cluster (2 clusters)')\n",
    "plt.scatter(x[y_means == 0, 0], x[y_means == 0, 1], s=60, c='red', label='Cluster 1')\n",
    "plt.scatter(x[y_means == 1, 0], x[y_means == 1, 1], s=60, c='blue', label='Cluster 2')\n",
    "\n",
    "plt.legend()\n",
    "plt.show()"
   ]
  },
  {
   "cell_type": "code",
   "execution_count": null,
   "id": "f79bc045-9975-4eff-af0c-71212e540183",
   "metadata": {},
   "outputs": [],
   "source": [
    "# dbscan = DBSCAN(eps=2, min_samples=5)\n",
    "\n",
    "# dbscan_labels = dbscan.fit_predict(x)\n",
    "\n",
    "# plt.figure(figsize=(8, 6))\n",
    "# sns.scatterplot(x=reduced_data[:, 0], y=reduced_data[:, 1], hue=dbscan_labels, palette='tab10')\n",
    "# plt.xlabel('Income')\n",
    "# plt.ylabel('spending')\n",
    "# plt.title('DBSCAN  Cluster (2 clusters)')\n",
    "# plt.legend()\n",
    "# plt.show()"
   ]
  },
  {
   "cell_type": "code",
   "execution_count": null,
   "id": "1303c7f0-0c81-43e4-93e3-769681e5969d",
   "metadata": {},
   "outputs": [],
   "source": [
    "from sklearn import metrics\n",
    "print(metrics.silhouette_score(x,label))\n",
    "\n",
    "# THE silhouette_score IS HIGH WHEN THERE IS ONLY ONE CLUSTER AND LOW WHEN THERE IS MORE\n",
    "# CHANGE THIS BY DECREASING NSAMPLE TO 4 AND INCREASING EPS NUMBER TO 3"
   ]
  },
  {
   "cell_type": "code",
   "execution_count": null,
   "id": "0df7dfef-47d5-40fd-94d9-49735c3ec3cf",
   "metadata": {},
   "outputs": [],
   "source": [
    "SINCE THE silhouette_score IS ABOVE 0.5, WE ARE GETTING MEANINGFUL CLUSTERS."
   ]
  },
  {
   "cell_type": "code",
   "execution_count": null,
   "id": "e9ee3fe6-bdb3-4835-b5fe-1721f90851c6",
   "metadata": {},
   "outputs": [],
   "source": [
    "plt.scatter(x[:, 0], x[:, 1], c=label, cmap='viridis')"
   ]
  },
  {
   "cell_type": "code",
   "execution_count": null,
   "id": "67b9757c-8cff-4df5-a991-f0c7b703279a",
   "metadata": {},
   "outputs": [],
   "source": [
    "df_scaled['Cluster'] = label\n",
    "\n",
    "cluster_profiles = df_scaled.groupby('Cluster').mean(numeric_only=True)\n",
    "print(cluster_profiles)"
   ]
  },
  {
   "cell_type": "code",
   "execution_count": null,
   "id": "f5f1f826-6025-4475-ad4c-968a9e289a5b",
   "metadata": {},
   "outputs": [],
   "source": [
    "df_scaled['Cluster'].value_counts()"
   ]
  },
  {
   "cell_type": "code",
   "execution_count": null,
   "id": "2a3d9af5-6f58-4a83-a959-f7d736337207",
   "metadata": {},
   "outputs": [],
   "source": [
    "import matplotlib.pyplot as plt\n",
    "\n",
    "cluster_profiles.T.plot(kind='bar', figsize=(14, 6))   #cluster_profiles.T\n",
    "# .T transposes the DataFrame: rows become columns and vice versa.\n",
    "# Originally, clusters are rows and features are columns. which is needed for grouped bar plot\n",
    "# in X AXIS WE HAVE FEATURES, AND BAR REPRESENTS CLUSTER\n",
    "\n",
    "\n",
    "plt.title(\"Feature Comparison Across Clusters\")\n",
    "plt.ylabel(\"Mean Value\")\n",
    "plt.xticks(rotation=45)\n",
    "plt.show()"
   ]
  },
  {
   "cell_type": "code",
   "execution_count": null,
   "id": "1e12f09d-7ba1-4301-80e5-c74b1d3353bb",
   "metadata": {},
   "outputs": [],
   "source": [
    "import matplotlib.pyplot as plt\n",
    "\n",
    "# Plot the transposed cluster profiles\n",
    "cluster_profiles.T.plot(kind='bar', figsize=(14, 6))\n",
    "\n",
    "# Modify legend labels\n",
    "plt.legend(title=\"Customer Segmentation\", labels=[\"Luxury Sweet Spot Customers\", \"Moderate and Balanced Shoppers\", \"Meat-Driven High Spenders\"])\n",
    "\n",
    "plt.title(\"Feature Comparison Across Clusters\")\n",
    "plt.ylabel(\"Mean Value\")\n",
    "plt.xticks(rotation=45)\n",
    "\n",
    "plt.tight_layout()\n",
    "plt.show()\n"
   ]
  },
  {
   "cell_type": "code",
   "execution_count": null,
   "id": "03e0babd-59a4-4297-b3ef-d4ff5ea7ad04",
   "metadata": {},
   "outputs": [],
   "source": [
    "df_scaled.groupby('Cluster').mean()"
   ]
  },
  {
   "cell_type": "code",
   "execution_count": null,
   "id": "1b1c3da9-303c-40ca-9641-290d1ad7eb72",
   "metadata": {},
   "outputs": [],
   "source": [
    "cluster_names = {\n",
    "    -1: \"Luxury Sweet Spot Customers\",\n",
    "     0: \"Moderate and Balanced Shoppers\",\n",
    "     1: \"Meat-Driven High Spenders\"\n",
    "}\n",
    "df_scaled['ClusterName'] = df_scaled['Cluster'].map(cluster_names)\n",
    "\n",
    "# .map(cluster_names): Replaces numeric labels with their corresponding descriptive names."
   ]
  },
  {
   "cell_type": "code",
   "execution_count": null,
   "id": "246b3406-9044-44ab-80d8-470ce85fba20",
   "metadata": {},
   "outputs": [],
   "source": [
    "valuable_customers = df_scaled[df_scaled['ClusterName'] == \"Luxury Sweet Spot Customers\"]\n",
    "valuable_customers.head()"
   ]
  },
  {
   "cell_type": "code",
   "execution_count": null,
   "id": "25e724f1-b81d-4ce7-bee9-2179c4e7ff4f",
   "metadata": {},
   "outputs": [],
   "source": [
    "valuable_customers.to_csv(\"valuable_customers.csv\", index=False)\n",
    "\n",
    "# The index=False ensures the row numbers (index column) aren't included in the file—nice and clean for delivery, analysis,\n",
    "# or sharing with your team."
   ]
  },
  {
   "cell_type": "code",
   "execution_count": null,
   "id": "10f4436a-a5b6-44d1-b00e-a33ec26b855e",
   "metadata": {},
   "outputs": [],
   "source": [
    "valuable_customers.describe()"
   ]
  },
  {
   "cell_type": "code",
   "execution_count": null,
   "id": "67de88a1-af94-4bf1-ab1f-84bf8b1c45e7",
   "metadata": {},
   "outputs": [],
   "source": [
    "INFERENCES\n",
    "Cluster -1 → Luxury Sweet Spot Customers\n",
    "Extremely high on: Income, MntSweetProducts, MntGoldProds\n",
    "\n",
    "Despite low values in wines, meats, and fruits, these customers splurge on sweets and gold.\n",
    "\n",
    "Interpretation: Likely wealthy customers with niche preferences—value indulgent items.\n",
    "Cluster 0 → Moderate and Balanced Shoppers\n",
    "Features are around zero (mean of population) across the board.\n",
    "\n",
    "No standout highs or lows.\n",
    "\n",
    "Interpretation: Steady, middle-tier customers—neither high spenders nor minimalists.\n",
    "Cluster 1 → Meat-Driven High Spenders\n",
    "Huge spike in MntMeatProducts (6.58 std deviations above mean!).\n",
    "\n",
    "Above-average income too.\n",
    "\n",
    "Low on sweets, gold, and other categories.\n",
    "Interpretation: Focused, protein-heavy spenders—perhaps families or bulk shoppers."
   ]
  },
  {
   "cell_type": "code",
   "execution_count": null,
   "id": "6a2bb8a2-709c-4b53-8c3c-391cc4c0a6eb",
   "metadata": {},
   "outputs": [],
   "source": [
    "model1_pickle - u can give any name u want in the format name_pickle pickle.dump(model, f) - here in place of model use ur variable name of model u used like\n",
    "\n",
    "from sklearn.cluster import DBSCAN\n",
    "model=DBSCAN(eps=7,min_samples=2,metric='manhattan') <<<like this"
   ]
  },
  {
   "cell_type": "code",
   "execution_count": null,
   "id": "e932053b-f6c9-408c-ae69-06648964e492",
   "metadata": {},
   "outputs": [],
   "source": [
    "import pickle\n",
    "\n",
    "# Replace `kmeans` with your actual model variable name\n",
    "with open(\"C:/Users/viral/Desktop/CSFILESProject/segmentation_model.pkl\", \"wb\") as f:\n",
    "    pickle.dump(model, f)"
   ]
  },
  {
   "cell_type": "code",
   "execution_count": null,
   "id": "5b7d0c2a-cbf4-4101-b638-2d11503cbd12",
   "metadata": {},
   "outputs": [],
   "source": [
    "!pip install streamlit"
   ]
  },
  {
   "cell_type": "code",
   "execution_count": null,
   "id": "3dabba42-c0aa-486c-8bbf-40f11a2d5dc6",
   "metadata": {},
   "outputs": [],
   "source": [
    "\n",
    "%% writefile C:/Users/viral/Desktop/CSFILESProject/app.py\n",
    "import streamlit as st\n",
    "import pandas as pd\n",
    "import numpy as np\n",
    "import pickle\n",
    "\n",
    "st.set_page_config(page_title=\"Customer Segmentation\", layout=\"centered\")\n",
    "\n",
    "st.title(\"🎯 Customer Segmentation App\")\n",
    "\n",
    "# Load model\n",
    "@st.cache_resource\n",
    "def load_model():\n",
    "    with open(\"C:/Users/viral/Desktop/CSFILESProject/segmentation_model.pkl\", \"rb\") as f:\n",
    "        return pickle.load(f)\n",
    "\n",
    "model = load_model()\n",
    "\n",
    "# Load dataset\n",
    "@st.cache_data\n",
    "def load_data():\n",
    "    return pd.read_excel(\"C:/Users/viral/Desktop/CSFILESProject/marketing_campaign1.xlsx\")\n",
    "\n",
    "df = load_data()\n",
    "\n",
    "# Display data preview\n",
    "st.subheader(\"📊 Preview of Data\")\n",
    "st.dataframe(df.head())\n",
    "\n",
    "# Input features for prediction\n",
    "st.sidebar.header(\"🔍 Input Customer Details\")\n",
    "try:\n",
    "    income = st.sidebar.slider(\"Income\", min_value=0, max_value=200000, value=50000, step=1000)\n",
    "    age = st.sidebar.slider(\"Age\", min_value=18, max_value=100, value=35)\n",
    "    score = st.sidebar.slider(\"Spending Score\", min_value=1, max_value=100, value=50)\n",
    "\n",
    "    input_data = np.array([[income, age, score]])\n",
    "\n",
    "    if st.sidebar.button(\"Predict Segment\"):\n",
    "        prediction = model.predict(input_data)\n",
    "        st.success(f\"🎯 Predicted Segment: {int(prediction[0])}\")\n",
    "except Exception as e:\n",
    "    st.error(f\"Error in prediction: {e}\")"
   ]
  },
  {
   "cell_type": "code",
   "execution_count": null,
   "id": "d3907433-13cc-4a43-a498-7ac31216ab83",
   "metadata": {},
   "outputs": [],
   "source": [
    "%% writefile C:/Users/viral/Desktop/CSFILESProject/requirements.txt\n",
    "streamlit\n",
    "pandas\n",
    "numpy\n",
    "scikit-learn\n",
    "openpyxl\n",
    "\n"
   ]
  },
  {
   "cell_type": "code",
   "execution_count": null,
   "id": "c39845e3-5a61-4614-b6ca-91ac434b0546",
   "metadata": {},
   "outputs": [],
   "source": [
    "!pip install -r C:/Users/viral/Desktop/CSFILESProject/requirements.txt\n",
    "!streamlit run C:/Users/viral/Desktop/CSFILESProject/app.py"
   ]
  },
  {
   "cell_type": "code",
   "execution_count": null,
   "id": "a2208f48-9bb3-4fc7-a71b-1ed386d3aa0d",
   "metadata": {},
   "outputs": [],
   "source": []
  },
  {
   "cell_type": "code",
   "execution_count": null,
   "id": "f23cff62-3e83-416f-b725-ab85a44dbb91",
   "metadata": {},
   "outputs": [],
   "source": []
  }
 ],
 "metadata": {
  "kernelspec": {
   "display_name": "Python 3 (ipykernel)",
   "language": "python",
   "name": "python3"
  },
  "language_info": {
   "codemirror_mode": {
    "name": "ipython",
    "version": 3
   },
   "file_extension": ".py",
   "mimetype": "text/x-python",
   "name": "python",
   "nbconvert_exporter": "python",
   "pygments_lexer": "ipython3",
   "version": "3.12.4"
  }
 },
 "nbformat": 4,
 "nbformat_minor": 5
}
